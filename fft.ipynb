{
 "cells": [
  {
   "cell_type": "code",
   "execution_count": 1,
   "metadata": {},
   "outputs": [],
   "source": [
    "# SSVEP Algorithm to achieve the colecting and translation of Electroencephalography (EEG)\n",
    "\n",
    "import math\n",
    "from numpy.fft import fft # Fast Fourier Transform Algorithm\n",
    "from IPython.display import Markdown as md"
   ]
  },
  {
   "cell_type": "code",
   "execution_count": 2,
   "metadata": {},
   "outputs": [],
   "source": [
    "def harmonic(base, input) -> bool:\n",
    "\n",
    "    for n in range(base, 2000, 10):\n",
    "        if input == n:\n",
    "            return True\n",
    "    \n",
    "    return False"
   ]
  },
  {
   "cell_type": "code",
   "execution_count": 3,
   "metadata": {},
   "outputs": [],
   "source": [
    "# O1 && O2\n",
    "# 10 && 11 - (-1)\n",
    "input_path = \"./EEG_Data.txt\"\n",
    "with open(input_path) as f:\n",
    "    lines = f.readlines()\n",
    "\n",
    "o1_trials = []\n",
    "o1_trial = []\n",
    "for l in lines:\n",
    "    o1_trial.append(float(l.split(\"\\t\")[9]))\n",
    "    \n",
    "    if len(o1_trial) == 512:\n",
    "        o1_trials.append(o1_trial)\n",
    "        o1_trial = []\n"
   ]
  },
  {
   "cell_type": "code",
   "execution_count": 4,
   "metadata": {},
   "outputs": [
    {
     "data": {
      "text/markdown": [
       "### O1\n",
       "|  | 10Hz | 11Hz | 12Hz | 13Hz |\n",
       "| --- | --- | --- | --- | --- |\n",
       "| 1 | 369.79691806454963 | 124.93442696662456 | 384.16363970774063 | 166.5172673611722 |\n",
       "| 2 | 62.124683845412825 | 285.22269414824683 | 148.77548178390006 | 681.553457704842 |\n",
       "| 3 | 604.7742770364564 | 506.77668950162496 | 592.9274185439895 | 96.4004254233979 |\n",
       "| 4 | 59.27044686016926 | 68.84622398015472 | 664.3883023651792 | 172.67875638886233 |\n",
       "| 5 | 521.1892517613953 | 129.48245809452007 | 104.14822029713713 | 605.4848140630095 |\n",
       "| 6 | 330.4323759217736 | 322.32260702168645 | 726.2531147420865 | 41.896366104079384 |\n",
       "| 7 | 65.94802231504703 | 225.81848636286347 | 486.83681144051803 | 124.18275741596409 |\n",
       "| 8 | 427.7641922492939 | 217.3710894602577 | 426.89000930290683 | 255.36182164407103 |\n",
       "| 9 | 519.4789239493209 | 248.05979367411845 | 339.4867028634532 | 211.4493877260879 |\n",
       "| 10 | 186.33119802835458 | 275.56455627556534 | 285.8164000095154 | 172.33780822166815 |\n",
       "| 11 | 250.22758435258098 | 101.67211112128507 | 379.98805185619545 | 124.70515942900616 |\n",
       "| 12 | 386.00569678882147 | 136.51532730679105 | 39.53437926007043 | 260.458930447621 |\n",
       "| 13 | 117.7972669496774 | 510.3742817384743 | 125.59633438507292 | 52.192196628788416 |\n",
       "| 14 | 323.80828826090107 | 34.69910327730651 | 72.88501281840497 | 144.23049703459486 |"
      ],
      "text/plain": [
       "<IPython.core.display.Markdown object>"
      ]
     },
     "execution_count": 4,
     "metadata": {},
     "output_type": "execute_result"
    }
   ],
   "source": [
    "o1_vec = []\n",
    "for o1_trial in o1_trials:\n",
    "    o1_trial = fft(o1_trial)\n",
    "    o1_trial_real = o1_trial.real\n",
    "    o1_trial_imag = o1_trial.imag\n",
    "    o1_trial_out = []\n",
    "    total_vals = len(o1_trial)\n",
    "    for i in range(total_vals):\n",
    "        i -= 1\n",
    "        freq = (128*i/total_vals)\n",
    "        i += 1\n",
    "        if freq == 10 or freq == 11 or freq == 12 or freq == 13:\n",
    "            o1_val = math.sqrt(o1_trial_real[i]**2 + o1_trial_imag[i]**2)\n",
    "            o1_trial_out.append(o1_val)\n",
    "        else:\n",
    "            continue\n",
    "        \n",
    "    o1_vec.append(o1_trial_out)\n",
    "\n",
    "# Just with 10Hz, 11Hz, 12Hz\n",
    "n = len(o1_vec)\n",
    "s = \"### O1\\n\"\n",
    "s += \"|  | 10Hz | 11Hz | 12Hz | 13Hz |\\n| --- | --- | --- | --- | --- |\"\n",
    "for i in range(n):\n",
    "    s += \"\\n| {} | {} | {} | {} | {} |\".format(i + 1, o1_vec[i][0], o1_vec[i][1], o1_vec[i][2], o1_vec[i][3])\n",
    "md(s)\n"
   ]
  },
  {
   "cell_type": "code",
   "execution_count": 5,
   "metadata": {},
   "outputs": [
    {
     "data": {
      "text/markdown": [
       "### O1 - Hz_val + neighbors mean\n",
       "|  | 10Hz | 11Hz | 12Hz | 13Hz |\n",
       "| --- | --- | --- | --- | --- |\n",
       "| 1 | 240.63677271874113 | 217.0950488685077 | 350.59320173573195 | 197.5245485042237 |\n",
       "| 2 | 256.0503540694725 | 208.22477412364017 | 218.3891648042999 | 508.4771161505933 |\n",
       "| 3 | 345.92942027371845 | 372.7396190371094 | 416.02264558205906 | 345.9228700563122 |\n",
       "| 4 | 162.35946114772426 | 228.1158387150921 | 491.19468674986206 | 184.98879352268003 |\n",
       "| 5 | 277.2500095530251 | 118.67086264601609 | 165.2484868717273 | 535.2049919308791 |\n",
       "| 6 | 274.00825293043516 | 155.05522244619058 | 450.8615481021436 | 86.72256843634726 |\n",
       "| 7 | 119.4128997481781 | 181.27703937737053 | 433.1413537805515 | 223.6928095706637 |\n",
       "| 8 | 349.6688169660126 | 219.64370601312172 | 281.44859664400474 | 229.51316039572274 |\n",
       "| 9 | 488.14281344051216 | 251.38924508687694 | 245.37151236967574 | 159.81528615895516 |\n",
       "| 10 | 192.46270974044793 | 463.6022718624035 | 196.45402599749238 | 138.33432317004932 |\n",
       "| 11 | 386.4926514418783 | 258.5551306695025 | 310.6559887249319 | 119.07103623983728 |\n",
       "| 12 | 405.3982402488186 | 222.9602970103771 | 169.77125713954953 | 244.65809292135677 |\n",
       "| 13 | 127.41753064104523 | 273.4487117273854 | 153.1711782003854 | 78.77372437826443 |\n",
       "| 14 | 367.5654859190565 | 156.1576641046628 | 120.9047490204842 | 192.8906424995847 |"
      ],
      "text/plain": [
       "<IPython.core.display.Markdown object>"
      ]
     },
     "execution_count": 5,
     "metadata": {},
     "output_type": "execute_result"
    }
   ],
   "source": [
    "o1_vec = []\n",
    "for o1_trial in o1_trials:\n",
    "    o1_trial = fft(o1_trial)\n",
    "    o1_trial_real = o1_trial.real\n",
    "    o1_trial_imag = o1_trial.imag\n",
    "    o1_trial_out = []\n",
    "    total_vals = len(o1_trial)\n",
    "    neighbor_cache = 0\n",
    "    next_neighbor = False\n",
    "    for i in range(total_vals):\n",
    "        i -= 1\n",
    "        freq = (128*i/total_vals)\n",
    "        i += 1\n",
    "        if freq == 10 or freq == 11 or freq == 12 or freq == 13:\n",
    "            o1_val = neighbor_cache + math.sqrt(o1_trial_real[i]**2 + o1_trial_imag[i]**2)\n",
    "            next_neighbor = True\n",
    "        else:\n",
    "            if next_neighbor:\n",
    "                o1_val += math.sqrt(o1_trial_real[i]**2 + o1_trial_imag[i]**2)\n",
    "                o1_val = o1_val / 3\n",
    "                o1_trial_out.append(o1_val)\n",
    "                next_neighbor = False\n",
    "                neighbor_cache = 0\n",
    "                o1_val = 0\n",
    "            else:\n",
    "                neighbor_cache = math.sqrt(o1_trial_real[i]**2 + o1_trial_imag[i]**2)\n",
    "            continue\n",
    "        \n",
    "    o1_vec.append(o1_trial_out)\n",
    "\n",
    "# With mean of Hz and neighbors\n",
    "n = len(o1_vec)\n",
    "s = \"### O1 - Hz_val + neighbors mean\\n\"\n",
    "s += \"|  | 10Hz | 11Hz | 12Hz | 13Hz |\\n| --- | --- | --- | --- | --- |\"\n",
    "for i in range(n):\n",
    "    s += \"\\n| {} | {} | {} | {} | {} |\".format(i + 1, o1_vec[i][0], o1_vec[i][1], o1_vec[i][2], o1_vec[i][3])\n",
    "md(s)\n"
   ]
  },
  {
   "cell_type": "code",
   "execution_count": 6,
   "metadata": {},
   "outputs": [
    {
     "data": {
      "text/markdown": [
       "### O1 - Harmonic sum of Hz_val + neighbors mean\n",
       "|  | 10Hz | 11Hz | 12Hz | 13Hz |\n",
       "| --- | --- | --- | --- | --- |\n",
       "| 1 | 1279.0006164802462 | 1203.0690443000015 | 1486.4953186328974 | 1341.7067381000757 |\n",
       "| 2 | 1358.6931740114508 | 1363.9296291098806 | 1332.957903200645 | 1589.7956244847308 |\n",
       "| 3 | 2156.813127534535 | 2357.8386080085406 | 2561.553417091301 | 2224.778236789921 |\n",
       "| 4 | 1448.332123262156 | 1346.3844708096015 | 1425.4828866158211 | 1378.351670268448 |\n",
       "| 5 | 1482.2463494746617 | 1327.9192983753155 | 1383.8689290519096 | 1718.023521578827 |\n",
       "| 6 | 1465.1691523260986 | 1278.6783899111983 | 1419.6858764539427 | 1284.3589265649196 |\n",
       "| 7 | 1500.0212545423776 | 1252.6450990203293 | 1233.9359732614294 | 1492.5896140301256 |\n",
       "| 8 | 1564.7935315860182 | 1226.988104917064 | 1213.066734002193 | 1463.9617505102717 |\n",
       "| 9 | 1702.9662413082967 | 1246.866126474809 | 1374.5814394644196 | 1130.7359826004617 |\n",
       "| 10 | 1333.0776940618625 | 1599.1743374791133 | 1147.1955953304166 | 1404.788222123805 |\n",
       "| 11 | 1639.833131377012 | 1255.720538693503 | 1351.8100378895342 | 1002.9495537817852 |\n",
       "| 12 | 1655.0794992442527 | 1282.3310849690927 | 1180.0547443105197 | 1264.997653471717 |\n",
       "| 13 | 1371.2942971089687 | 1242.9467856593126 | 1079.373629553124 | 1039.3416916728113 |\n",
       "| 14 | 1578.3276997680125 | 1110.179178234875 | 1005.3901277476511 | 1064.4215119495223 |"
      ],
      "text/plain": [
       "<IPython.core.display.Markdown object>"
      ]
     },
     "execution_count": 6,
     "metadata": {},
     "output_type": "execute_result"
    }
   ],
   "source": [
    "o1_vec = []\n",
    "for o1_trial in o1_trials:\n",
    "    o1_trial = fft(o1_trial)\n",
    "    o1_trial_real = o1_trial.real\n",
    "    o1_trial_imag = o1_trial.imag\n",
    "    o1_trial_out = []\n",
    "    total_vals = len(o1_trial)\n",
    "    \n",
    "    def compute(hz_val):\n",
    "        neighbor_cache = 0\n",
    "        next_neighbor = False\n",
    "        o1_trial_out_cache = 0\n",
    "        for i in range(total_vals):\n",
    "            i -= 1\n",
    "            freq = (128*i/total_vals)\n",
    "            i += 1\n",
    "            if harmonic(hz_val, freq):\n",
    "                o1_val = neighbor_cache + math.sqrt(o1_trial_real[i]**2 + o1_trial_imag[i]**2)\n",
    "                next_neighbor = True\n",
    "            else:\n",
    "                if next_neighbor:\n",
    "                    o1_val += math.sqrt(o1_trial_real[i]**2 + o1_trial_imag[i]**2)\n",
    "                    o1_val = o1_val / 3\n",
    "                    o1_trial_out_cache += o1_val\n",
    "                    next_neighbor = False\n",
    "                    neighbor_cache = 0\n",
    "                    o1_val = 0\n",
    "                else:\n",
    "                    neighbor_cache = math.sqrt(o1_trial_real[i]**2 + o1_trial_imag[i]**2)\n",
    "                continue\n",
    "            \n",
    "        return o1_trial_out_cache\n",
    "    \n",
    "    # For 10Hz\n",
    "    o1_trial_out.append(compute(10))\n",
    "    \n",
    "    # For 11Hz\n",
    "    o1_trial_out.append(compute(11))\n",
    "    \n",
    "    # For 12Hz\n",
    "    o1_trial_out.append(compute(12))\n",
    "    \n",
    "    # For 13Hz\n",
    "    o1_trial_out.append(compute(13))\n",
    "    \n",
    "        \n",
    "    o1_vec.append(o1_trial_out)\n",
    "\n",
    "# With Harminics/multiples of Hz and neighbors (mean)\n",
    "n = len(o1_vec)\n",
    "s = \"### O1 - Harmonic sum of Hz_val + neighbors mean\\n\"\n",
    "s += \"|  | 10Hz | 11Hz | 12Hz | 13Hz |\\n| --- | --- | --- | --- | --- |\"\n",
    "for i in range(n):\n",
    "    s += \"\\n| {} | {} | {} | {} | {} |\".format(i + 1, o1_vec[i][0], o1_vec[i][1], o1_vec[i][2], o1_vec[i][3])\n",
    "md(s)"
   ]
  },
  {
   "cell_type": "code",
   "execution_count": 7,
   "metadata": {},
   "outputs": [],
   "source": [
    "\n",
    "with open(input_path) as f:\n",
    "    lines = f.readlines()\n",
    "\n",
    "o2_trials = []\n",
    "#o2_trials = []\n",
    "o2_trial = []\n",
    "for l in lines:\n",
    "    o2_trial.append(float(l.split(\"\\t\")[10]))\n",
    "    \n",
    "    if len(o2_trial) == 512:\n",
    "        o2_trials.append(o2_trial)\n",
    "        o2_trial = []"
   ]
  },
  {
   "cell_type": "code",
   "execution_count": 8,
   "metadata": {},
   "outputs": [
    {
     "data": {
      "text/markdown": [
       "### O2\n",
       "|  | 10Hz | 11Hz | 12Hz | 13Hz |\n",
       "| --- | --- | --- | --- | --- |\n",
       "| 1 | 359.94787099627104 | 232.15937046879347 | 575.0833392784978 | 217.4252131340313 |\n",
       "| 2 | 46.92400204646707 | 390.878435112713 | 69.41080209950263 | 714.7074065585476 |\n",
       "| 3 | 633.2624228114172 | 440.5491344508593 | 663.0712232526859 | 149.57504669358886 |\n",
       "| 4 | 150.81480348641037 | 131.0327699788391 | 646.258814065116 | 118.55954613816256 |\n",
       "| 5 | 535.5799482586299 | 152.91321118052466 | 137.90716933026013 | 597.7443654046153 |\n",
       "| 6 | 326.4696843952253 | 259.48078720793774 | 773.2347873842807 | 60.437950197791075 |\n",
       "| 7 | 89.32164183905142 | 295.7788564292565 | 444.76821956563987 | 158.3148220705287 |\n",
       "| 8 | 634.6256552976512 | 91.62821326471023 | 344.03135367089993 | 253.41608567772042 |\n",
       "| 9 | 665.044229123786 | 238.9847767456656 | 302.54575261385014 | 125.5479808899709 |\n",
       "| 10 | 315.2233727669161 | 371.73529170214476 | 238.51169619236077 | 183.80700509240773 |\n",
       "| 11 | 360.8925497814995 | 203.13432548227004 | 273.97888389175495 | 69.36292046540174 |\n",
       "| 12 | 363.9082318350002 | 212.19462046513604 | 17.24404364073353 | 276.49480880974204 |\n",
       "| 13 | 193.16252877204678 | 562.8983199025267 | 128.91573127169835 | 112.26696395512184 |\n",
       "| 14 | 297.6611514314156 | 110.74973826853657 | 144.6589567896945 | 57.01087314907913 |"
      ],
      "text/plain": [
       "<IPython.core.display.Markdown object>"
      ]
     },
     "execution_count": 8,
     "metadata": {},
     "output_type": "execute_result"
    }
   ],
   "source": [
    "o2_vec = []\n",
    "for o2_trial in o2_trials:\n",
    "    o2_trial = fft(o2_trial)\n",
    "    o2_trial_real = o2_trial.real\n",
    "    o2_trial_imag = o2_trial.imag\n",
    "    o2_trial_out = []\n",
    "    total_vals = len(o2_trial)\n",
    "    for i in range(total_vals):\n",
    "        i -= 1\n",
    "        freq = (128*i/total_vals)\n",
    "        i += 1\n",
    "        if freq == 10 or freq == 11 or freq == 12 or freq == 13:\n",
    "            o2_val = math.sqrt(o2_trial_real[i]**2 + o2_trial_imag[i]**2)\n",
    "            o2_trial_out.append(o2_val)\n",
    "        else:\n",
    "            continue\n",
    "        \n",
    "    o2_vec.append(o2_trial_out)\n",
    "\n",
    "# Just with 10Hz, 11Hz, 12Hz\n",
    "n = len(o2_vec)\n",
    "s = \"### O2\\n\"\n",
    "s += \"|  | 10Hz | 11Hz | 12Hz | 13Hz |\\n| --- | --- | --- | --- | --- |\"\n",
    "for i in range(n):\n",
    "    s += \"\\n| {} | {} | {} | {} | {} |\".format(i + 1, o2_vec[i][0], o2_vec[i][1], o2_vec[i][2], o2_vec[i][3])\n",
    "md(s)\n"
   ]
  },
  {
   "cell_type": "code",
   "execution_count": 9,
   "metadata": {},
   "outputs": [
    {
     "data": {
      "text/markdown": [
       "### O2 - Hz_val + neighbors mean\n",
       "|  | 10Hz | 11Hz | 12Hz | 13Hz |\n",
       "| --- | --- | --- | --- | --- |\n",
       "| 1 | 262.60066495485927 | 209.70936275890713 | 446.52158087612634 | 191.95253673700623 |\n",
       "| 2 | 255.28297509176846 | 287.28452956687266 | 177.90265041538484 | 545.1200558058594 |\n",
       "| 3 | 362.8845492407345 | 313.47889206921576 | 473.6200561113733 | 419.9293708947532 |\n",
       "| 4 | 214.60215108531546 | 291.69813419497603 | 500.12302501008156 | 218.22079381882853 |\n",
       "| 5 | 349.836634704642 | 167.69131619072547 | 187.31512352459944 | 516.6390130910927 |\n",
       "| 6 | 255.66663930068924 | 153.23605016067268 | 453.4224379485995 | 125.42895084179077 |\n",
       "| 7 | 121.68707732942475 | 221.37688660936854 | 471.3169655625209 | 209.82084602085536 |\n",
       "| 8 | 537.0428811343128 | 135.3727652756676 | 261.8347325674194 | 244.2903565407546 |\n",
       "| 9 | 542.3033871857597 | 216.94684262342784 | 242.55648085115112 | 128.67566081545914 |\n",
       "| 10 | 220.12212059294586 | 492.9738616394272 | 172.07044729175584 | 113.25240049999967 |\n",
       "| 11 | 497.96256032763375 | 387.8759552231859 | 278.5893722097835 | 144.3599592657604 |\n",
       "| 12 | 378.8057941242093 | 213.35502559291294 | 165.05333636706106 | 231.48062630145805 |\n",
       "| 13 | 144.1553159269628 | 384.8836899991543 | 222.49143452685567 | 178.5329057048543 |\n",
       "| 14 | 455.4582735867975 | 238.71208705525797 | 178.94382260697117 | 167.69305526104867 |"
      ],
      "text/plain": [
       "<IPython.core.display.Markdown object>"
      ]
     },
     "execution_count": 9,
     "metadata": {},
     "output_type": "execute_result"
    }
   ],
   "source": [
    "o2_vec = []\n",
    "for o2_trial in o2_trials:\n",
    "    o2_trial = fft(o2_trial)\n",
    "    o2_trial_real = o2_trial.real\n",
    "    o2_trial_imag = o2_trial.imag\n",
    "    o2_trial_out = []\n",
    "    total_vals = len(o2_trial)\n",
    "    neighbor_cache = 0\n",
    "    next_neighbor = False\n",
    "    for i in range(total_vals):\n",
    "        i -= 1\n",
    "        freq = (128*i/total_vals)\n",
    "        i += 1\n",
    "        if freq == 10 or freq == 11 or freq == 12 or freq == 13:\n",
    "            o2_val = neighbor_cache + math.sqrt(o2_trial_real[i]**2 + o2_trial_imag[i]**2)\n",
    "            next_neighbor = True\n",
    "        else:\n",
    "            if next_neighbor:\n",
    "                o2_val += math.sqrt(o2_trial_real[i]**2 + o2_trial_imag[i]**2)\n",
    "                o2_val = o2_val / 3\n",
    "                o2_trial_out.append(o2_val)\n",
    "                next_neighbor = False\n",
    "                neighbor_cache = 0\n",
    "                o2_val = 0\n",
    "            else:\n",
    "                neighbor_cache = math.sqrt(o2_trial_real[i]**2 + o2_trial_imag[i]**2)\n",
    "            continue\n",
    "        \n",
    "    o2_vec.append(o2_trial_out)\n",
    "\n",
    "# With mean of Hz and neighbors\n",
    "n = len(o2_vec)\n",
    "s = \"### O2 - Hz_val + neighbors mean\\n\"\n",
    "s += \"|  | 10Hz | 11Hz | 12Hz | 13Hz |\\n| --- | --- | --- | --- | --- |\"\n",
    "for i in range(n):\n",
    "    s += \"\\n| {} | {} | {} | {} | {} |\".format(i + 1, o2_vec[i][0], o2_vec[i][1], o2_vec[i][2], o2_vec[i][3])\n",
    "md(s)\n"
   ]
  },
  {
   "cell_type": "code",
   "execution_count": 10,
   "metadata": {},
   "outputs": [
    {
     "data": {
      "text/markdown": [
       "### O2 - Harmonic sum of Hz_val + neighbors mean\n",
       "|  | 10Hz | 11Hz | 12Hz | 13Hz |\n",
       "| --- | --- | --- | --- | --- |\n",
       "| 1 | 1363.9922224757418 | 1251.7379581029195 | 1698.952386348548 | 1479.5222406271048 |\n",
       "| 2 | 1550.2879176820336 | 1564.4196507106067 | 1251.9008937696485 | 1590.810851860708 |\n",
       "| 3 | 2466.567211850018 | 2286.4070251471994 | 2609.9480490875085 | 2244.3678257150427 |\n",
       "| 4 | 1668.9914228460757 | 1379.5322602132915 | 1612.0111460128908 | 1486.2349591476675 |\n",
       "| 5 | 1740.6981604978375 | 1404.6739064116464 | 1417.9444795309246 | 1864.5443745748119 |\n",
       "| 6 | 1519.4335376961565 | 1404.8277177376099 | 1542.4614875554578 | 1290.7185822190781 |\n",
       "| 7 | 1472.277904774712 | 1427.3248342204718 | 1615.6334803052828 | 1648.3787162021779 |\n",
       "| 8 | 1829.189359475805 | 1153.7222947253686 | 1239.1699266381538 | 1598.009803293761 |\n",
       "| 9 | 1968.3729996832087 | 1306.6241137105137 | 1383.824174358283 | 1200.9079092454906 |\n",
       "| 10 | 1445.1551057666102 | 1770.5275459229924 | 1238.6763497193483 | 1314.8182112331347 |\n",
       "| 11 | 2034.3305548199157 | 1680.7912310478778 | 1397.8281795696826 | 1096.4128961296858 |\n",
       "| 12 | 1562.446006333058 | 1334.3636436252493 | 1183.9739732724 | 1333.1331293238043 |\n",
       "| 13 | 1300.8650891399848 | 1509.2715806655865 | 1276.2075306836784 | 1362.0082935854143 |\n",
       "| 14 | 1923.0949626952126 | 1410.2636551598587 | 1189.3065131343947 | 1282.3789987641742 |"
      ],
      "text/plain": [
       "<IPython.core.display.Markdown object>"
      ]
     },
     "execution_count": 10,
     "metadata": {},
     "output_type": "execute_result"
    }
   ],
   "source": [
    "o2_vec = []\n",
    "for o2_trial in o2_trials:\n",
    "    o2_trial = fft(o2_trial)\n",
    "    o2_trial_real = o2_trial.real\n",
    "    o2_trial_imag = o2_trial.imag\n",
    "    o2_trial_out = []\n",
    "    total_vals = len(o2_trial)\n",
    "    \n",
    "    def compute(hz_val):\n",
    "        neighbor_cache = 0\n",
    "        next_neighbor = False\n",
    "        o2_trial_out_cache = 0\n",
    "        for i in range(total_vals):\n",
    "            i -= 1\n",
    "            freq = (128*i/total_vals)\n",
    "            i += 1\n",
    "            if harmonic(hz_val, freq):\n",
    "                o2_val = neighbor_cache + math.sqrt(o2_trial_real[i]**2 + o2_trial_imag[i]**2)\n",
    "                next_neighbor = True\n",
    "            else:\n",
    "                if next_neighbor:\n",
    "                    o2_val += math.sqrt(o2_trial_real[i]**2 + o2_trial_imag[i]**2)\n",
    "                    o2_val = o2_val / 3\n",
    "                    o2_trial_out_cache += o2_val\n",
    "                    next_neighbor = False\n",
    "                    neighbor_cache = 0\n",
    "                    o2_val = 0\n",
    "                else:\n",
    "                    neighbor_cache = math.sqrt(o2_trial_real[i]**2 + o2_trial_imag[i]**2)\n",
    "                continue\n",
    "            \n",
    "        return o2_trial_out_cache\n",
    "    \n",
    "    # For 10Hz\n",
    "    o2_trial_out.append(compute(10))\n",
    "    \n",
    "    # For 11Hz\n",
    "    o2_trial_out.append(compute(11))\n",
    "    \n",
    "    # For 12Hz\n",
    "    o2_trial_out.append(compute(12))\n",
    "    \n",
    "    # For 13Hz\n",
    "    o2_trial_out.append(compute(13))\n",
    "    \n",
    "        \n",
    "    o2_vec.append(o2_trial_out)\n",
    "\n",
    "# With Harminics/multiples of Hz and neighbors (mean)\n",
    "n = len(o2_vec)\n",
    "s = \"### O2 - Harmonic sum of Hz_val + neighbors mean\\n\"\n",
    "s += \"|  | 10Hz | 11Hz | 12Hz | 13Hz |\\n| --- | --- | --- | --- | --- |\"\n",
    "for i in range(n):\n",
    "    s += \"\\n| {} | {} | {} | {} | {} |\".format(i + 1, o2_vec[i][0], o2_vec[i][1], o2_vec[i][2], o2_vec[i][3])\n",
    "md(s)"
   ]
  }
 ],
 "metadata": {
  "interpreter": {
   "hash": "916dbcbb3f70747c44a77c7bcd40155683ae19c65e1c03b4aa3499c5328201f1"
  },
  "kernelspec": {
   "display_name": "Python 3.8.10 64-bit",
   "language": "python",
   "name": "python3"
  },
  "language_info": {
   "codemirror_mode": {
    "name": "ipython",
    "version": 3
   },
   "file_extension": ".py",
   "mimetype": "text/x-python",
   "name": "python",
   "nbconvert_exporter": "python",
   "pygments_lexer": "ipython3",
   "version": "3.8.10"
  },
  "orig_nbformat": 4
 },
 "nbformat": 4,
 "nbformat_minor": 2
}
